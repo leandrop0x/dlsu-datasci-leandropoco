{
 "cells": [
  {
   "cell_type": "markdown",
   "metadata": {},
   "source": [
    "## Python Basics Exercise\n",
    "This exercise is designed to test your skills on basic Python programming, `numpy` and `pandas`.\n",
    "\n",
    "Place your answers within the code blocks that have the comment.\n",
    "\n",
    "```python\n",
    "# your code here\n",
    "```\n",
    "\n",
    "Make sure to remove or comment the line below to be able to proceed. It's only placed there as a reminder that the function has not yet been implemented.\n",
    "```python\n",
    "raise NotImplementedError\n",
    "```\n",
    "\n",
    "## Note on \"test scripts\"\n",
    "\n",
    "The code bloock following the function definition are \"unit tests\" which are code blocks which test if the function you implemented is correct or not. It will not print an output **if the conditions are met** (meaning the answer is correct). The current output for \"Exercise 1\" shows an example of when the code is correct and there's no errors, while the output for \"Exercise 2\" shows an example of what it would look like if something is incorrect.\n",
    "\n",
    "---"
   ]
  },
  {
   "cell_type": "code",
   "execution_count": 1,
   "metadata": {},
   "outputs": [],
   "source": [
    "# Place your imports here\n",
    "import numpy as np\n",
    "import pandas as pd"
   ]
  },
  {
   "cell_type": "markdown",
   "metadata": {},
   "source": [
    "**Exercise 1.** Create a function that generates a list containing values from 0 to n-1. **(1 pt.)**"
   ]
  },
  {
   "cell_type": "code",
   "execution_count": 2,
   "metadata": {},
   "outputs": [
    {
     "data": {
      "text/plain": [
       "[0,\n",
       " 1,\n",
       " 2,\n",
       " 3,\n",
       " 4,\n",
       " 5,\n",
       " 6,\n",
       " 7,\n",
       " 8,\n",
       " 9,\n",
       " 10,\n",
       " 11,\n",
       " 12,\n",
       " 13,\n",
       " 14,\n",
       " 15,\n",
       " 16,\n",
       " 17,\n",
       " 18,\n",
       " 19,\n",
       " 20,\n",
       " 21,\n",
       " 22,\n",
       " 23,\n",
       " 24]"
      ]
     },
     "execution_count": 2,
     "metadata": {},
     "output_type": "execute_result"
    }
   ],
   "source": [
    "def exercise_1(n):\n",
    "    # your code here.\n",
    "     return list (range (n))\n",
    "\n",
    "n = 5\n",
    "ans = exercise_1(n)\n",
    "ans\n",
    "\n",
    "n = 25\n",
    "ans = exercise_1(n)\n",
    "ans"
   ]
  },
  {
   "cell_type": "code",
   "execution_count": 3,
   "metadata": {},
   "outputs": [],
   "source": [
    "# these are test scripts\n",
    "ans = exercise_1(5)\n",
    "assert ans==[0, 1, 2, 3, 4]\n",
    "\n",
    "ans = exercise_1(25)\n",
    "assert ans==[0, 1, 2, 3, 4, 5, 6, 7, 8, 9, 10, 11, 12, 13, 14, 15, 16, 17, 18, 19, 20, 21, 22, 23, 24]"
   ]
  },
  {
   "cell_type": "markdown",
   "metadata": {},
   "source": [
    "**Exercise 2.** Create a function that turns the list into a numpy array **(1 pt.)**"
   ]
  },
  {
   "cell_type": "code",
   "execution_count": 4,
   "metadata": {},
   "outputs": [
    {
     "data": {
      "text/plain": [
       "array([ 0,  1,  2,  3,  4,  5,  6,  7,  8,  9, 10, 11, 12, 13, 14, 15, 16,\n",
       "       17, 18, 19, 20, 21, 22, 23, 24])"
      ]
     },
     "execution_count": 4,
     "metadata": {},
     "output_type": "execute_result"
    }
   ],
   "source": [
    "def exercise_2(nums):\n",
    "    # your code here.\n",
    "    return np.array(nums, dtype = int)\n",
    "\n",
    "nums = 5\n",
    "ans = exercise_2(nums)\n",
    "ans\n",
    "\n",
    "nums = 5\n",
    "ans = exercise_2(exercise_1(nums))\n",
    "ans\n",
    "\n",
    "nums = 25\n",
    "ans = exercise_2(exercise_1(nums))\n",
    "ans"
   ]
  },
  {
   "cell_type": "code",
   "execution_count": 5,
   "metadata": {},
   "outputs": [],
   "source": [
    "ans = exercise_2([0, 1, 2, 3, 4])\n",
    "assert (ans==np.arange(5)).sum()==5\n",
    "\n",
    "ans = exercise_2(exercise_1(5))\n",
    "assert (ans==np.arange(5)).sum()==5\n",
    "\n",
    "ans = exercise_2(exercise_1(25))\n",
    "assert (ans==np.arange(25)).sum()==25"
   ]
  },
  {
   "cell_type": "markdown",
   "metadata": {},
   "source": [
    "**Exercise 3.** Create a function that accepts 2 parameters: \n",
    " - nums - a list of integer\n",
    " - n - a single integer number\n",
    " \n",
    "The function adds n to all the numbers in nums.\n",
    "\n",
    "**(1 pt.)**"
   ]
  },
  {
   "cell_type": "code",
   "execution_count": 6,
   "metadata": {},
   "outputs": [
    {
     "data": {
      "text/plain": [
       "array([60, 61, 62])"
      ]
     },
     "execution_count": 6,
     "metadata": {},
     "output_type": "execute_result"
    }
   ],
   "source": [
    "def exercise_3(nums, n):\n",
    "    # your code here.\n",
    "    arr = np.array(nums)\n",
    "    ans = arr + n\n",
    "    return ans \n",
    "        \n",
    "nums = list (range (4+1))\n",
    "n = 20\n",
    "ans = exercise_3(nums, n)\n",
    "ans\n",
    "\n",
    "nums = list (range (2+1))\n",
    "n = 60\n",
    "ans = exercise_3(nums, n)\n",
    "ans"
   ]
  },
  {
   "cell_type": "code",
   "execution_count": 7,
   "metadata": {},
   "outputs": [],
   "source": [
    "ans = exercise_3([0, 1, 2, 3, 4], 20)\n",
    "assert (ans==np.arange(20, 25)).sum()==5\n",
    "\n",
    "ans = exercise_3([0, 1, 2], 60)\n",
    "assert (ans==np.arange(60, 63)).sum()==3"
   ]
  },
  {
   "cell_type": "markdown",
   "metadata": {},
   "source": [
    "**Exercise 4.** Create a function that accepts a list of numbers as input and returns the first number that has a lower than the number preceding it. If there is none, return `None`.\n",
    "\n",
    "**(2 pts.)**"
   ]
  },
  {
   "cell_type": "code",
   "execution_count": 8,
   "metadata": {},
   "outputs": [
    {
     "data": {
      "text/plain": [
       "-10.0"
      ]
     },
     "execution_count": 8,
     "metadata": {},
     "output_type": "execute_result"
    }
   ],
   "source": [
    "def exercise_4(nums):\n",
    "    # your code here.\n",
    "    arr = np.array(nums)\n",
    "    items = len(nums)\n",
    "    steps = items-1\n",
    "    \n",
    "    first = arr[0]\n",
    "    #print (\"first:\",first)\n",
    "    \n",
    "    last = arr[steps]\n",
    "    #print (\"last:\", last)\n",
    "    \n",
    "    #print (\"total number of items:\",items)\n",
    "    \n",
    "    for i in range(steps):\n",
    "        #print (\"step number:\",i+2,\" of \",items)\n",
    "\n",
    "        val = arr[i+1]\n",
    "        #print (\"current value checked:\",val)\n",
    "        \n",
    "        before = arr[i]\n",
    "        #print (\"value before:\",before)\n",
    "        \n",
    "        if before==last:\n",
    "            continue\n",
    "        \n",
    "        if val == first:\n",
    "            continue\n",
    "        \n",
    "        if val == last:\n",
    "            ans=None\n",
    "            break\n",
    "        \n",
    "        if val<before:\n",
    "            ans=val\n",
    "            #print (\"item number:\",i+2,\", value:\",val)\n",
    "            break\n",
    "    return ans\n",
    "        \n",
    "nums = list ([0.79, 4, 11.8, 99])\n",
    "ans = exercise_4(nums)\n",
    "ans\n",
    "\n",
    "nums = list ([0.79, 4, 11.8, 99, 0.4, 76, 55, 66])\n",
    "ans = exercise_4(nums)\n",
    "ans\n",
    "\n",
    "nums = list ([0.79, 4, 4, 11.0, 11, -10, -11, 12])\n",
    "ans = exercise_4(nums)\n",
    "ans"
   ]
  },
  {
   "cell_type": "code",
   "execution_count": 9,
   "metadata": {},
   "outputs": [],
   "source": [
    "ans = exercise_4([0.79, 4, 11.8, 99])\n",
    "assert ans==None \n",
    "\n",
    "ans = exercise_4([0.79, 4, 11.8, 99, 0.4, 76, 55, 66])\n",
    "assert ans==0.4\n",
    "\n",
    "ans = exercise_4([0.79, 4, 4, 11.0, 11, -10, -11, 12])\n",
    "assert ans==-10"
   ]
  },
  {
   "cell_type": "markdown",
   "metadata": {},
   "source": [
    "**Exercise 5.** Create a function that returns a list of prime factors of a number.\n",
    "\n",
    "**(2 pts.)**"
   ]
  },
  {
   "cell_type": "code",
   "execution_count": 10,
   "metadata": {},
   "outputs": [
    {
     "data": {
      "text/plain": [
       "[2, 11, 167]"
      ]
     },
     "execution_count": 10,
     "metadata": {},
     "output_type": "execute_result"
    }
   ],
   "source": [
    "def exercise_5(n):\n",
    "    # your code here.\n",
    "    fac = []\n",
    "    d = 2\n",
    "    while n > 1:\n",
    "        while n % d == 0:\n",
    "            fac.append(d)\n",
    "            n = n/d\n",
    "        d = d + 1\n",
    "        #print (\"added factor:\", fac)\n",
    "    \n",
    "    #return uniques\n",
    "    fac_set = set(fac) \n",
    "    unique_list = (list(fac_set))       \n",
    "    return sorted (unique_list)\n",
    "    \n",
    "exercise_5(1)\n",
    "\n",
    "exercise_5(4)\n",
    "\n",
    "exercise_5(1265)\n",
    "\n",
    "exercise_5(3674)"
   ]
  },
  {
   "cell_type": "code",
   "execution_count": 11,
   "metadata": {},
   "outputs": [],
   "source": [
    "ans = exercise_5(1)\n",
    "assert ans==[]\n",
    "\n",
    "ans = exercise_5(4)\n",
    "assert ans==[2] \n",
    "\n",
    "ans = exercise_5(1265)\n",
    "assert ans==[5, 11, 23]\n",
    "\n",
    "ans = exercise_5(3674)\n",
    "assert ans==[2, 11, 167]"
   ]
  },
  {
   "cell_type": "markdown",
   "metadata": {},
   "source": [
    "**Exercise 6.** Create a function that has 3 parameters: list of integers (num), integer number (n1), and another integer number (n2). The function will return a list of integers that are multiples of either n1 or n2.\n",
    "\n",
    "**(2 pts.)**"
   ]
  },
  {
   "cell_type": "code",
   "execution_count": 12,
   "metadata": {
    "jupyter": {
     "source_hidden": true
    }
   },
   "outputs": [
    {
     "data": {
      "text/plain": [
       "[17,\n",
       " 27,\n",
       " 34,\n",
       " 51,\n",
       " 54,\n",
       " 68,\n",
       " 81,\n",
       " 85,\n",
       " 102,\n",
       " 108,\n",
       " 119,\n",
       " 135,\n",
       " 136,\n",
       " 153,\n",
       " 162,\n",
       " 170,\n",
       " 187,\n",
       " 189,\n",
       " 204,\n",
       " 216,\n",
       " 221,\n",
       " 238,\n",
       " 243,\n",
       " 255,\n",
       " 270,\n",
       " 272,\n",
       " 289,\n",
       " 297]"
      ]
     },
     "execution_count": 12,
     "metadata": {},
     "output_type": "execute_result"
    }
   ],
   "source": [
    "def exercise_6(num, n1, n2):\n",
    "    # your code here.   \n",
    "    ans1 = []\n",
    "    ans2 = []\n",
    "    ans3 = []\n",
    "    ans1.append(list(range(0, num, n1)))\n",
    "    #print (\"ans1:\",ans1)\n",
    "    ans2.append(list(range(0, num, n2)))\n",
    "    #print (\"ans2:\",ans2)\n",
    "    ans3 = ans1+ans2\n",
    "    #print (\"ans3:\",ans3)\n",
    "    \n",
    "    #flatten list\n",
    "    result = []\n",
    "    extend = result.extend\n",
    "    for i in ans3:\n",
    "        extend(i)\n",
    "    #print (\"result pre sort:\",result)\n",
    "    \n",
    "    #return uniques\n",
    "    result_set = set(result)  \n",
    "    unique_list = (list(result_set))\n",
    "    return sorted(unique_list)\n",
    "\n",
    "num = 20 \n",
    "n1 = 3\n",
    "n2 = 4\n",
    "ans = exercise_6(num, n1, n2)\n",
    "ans.pop(0)\n",
    "ans\n",
    "\n",
    "\n",
    "num = 300\n",
    "n1 = 17\n",
    "n2 = 27\n",
    "ans = exercise_6(num, n1, n2)\n",
    "ans.pop(0)\n",
    "ans\n"
   ]
  },
  {
   "cell_type": "code",
   "execution_count": 13,
   "metadata": {},
   "outputs": [
    {
     "name": "stdout",
     "output_type": "stream",
     "text": [
      "[ 0  1  2  3  4  5  6  7  8  9 10 11 12 13 14 15 16 17 18 19]\n",
      "[  0   1   2   3   4   5   6   7   8   9  10  11  12  13  14  15  16  17\n",
      "  18  19  20  21  22  23  24  25  26  27  28  29  30  31  32  33  34  35\n",
      "  36  37  38  39  40  41  42  43  44  45  46  47  48  49  50  51  52  53\n",
      "  54  55  56  57  58  59  60  61  62  63  64  65  66  67  68  69  70  71\n",
      "  72  73  74  75  76  77  78  79  80  81  82  83  84  85  86  87  88  89\n",
      "  90  91  92  93  94  95  96  97  98  99 100 101 102 103 104 105 106 107\n",
      " 108 109 110 111 112 113 114 115 116 117 118 119 120 121 122 123 124 125\n",
      " 126 127 128 129 130 131 132 133 134 135 136 137 138 139 140 141 142 143\n",
      " 144 145 146 147 148 149 150 151 152 153 154 155 156 157 158 159 160 161\n",
      " 162 163 164 165 166 167 168 169 170 171 172 173 174 175 176 177 178 179\n",
      " 180 181 182 183 184 185 186 187 188 189 190 191 192 193 194 195 196 197\n",
      " 198 199 200 201 202 203 204 205 206 207 208 209 210 211 212 213 214 215\n",
      " 216 217 218 219 220 221 222 223 224 225 226 227 228 229 230 231 232 233\n",
      " 234 235 236 237 238 239 240 241 242 243 244 245 246 247 248 249 250 251\n",
      " 252 253 254 255 256 257 258 259 260 261 262 263 264 265 266 267 268 269\n",
      " 270 271 272 273 274 275 276 277 278 279 280 281 282 283 284 285 286 287\n",
      " 288 289 290 291 292 293 294 295 296 297 298 299]\n"
     ]
    },
    {
     "data": {
      "text/plain": [
       "[17.0,\n",
       " 27.0,\n",
       " 34.0,\n",
       " 51.0,\n",
       " 54.0,\n",
       " 68.0,\n",
       " 81.0,\n",
       " 85.0,\n",
       " 102.0,\n",
       " 108.0,\n",
       " 119.0,\n",
       " 135.0,\n",
       " 136.0,\n",
       " 153.0,\n",
       " 162.0,\n",
       " 170.0,\n",
       " 187.0,\n",
       " 189.0,\n",
       " 204.0,\n",
       " 216.0,\n",
       " 221.0,\n",
       " 238.0,\n",
       " 243.0,\n",
       " 255.0,\n",
       " 270.0,\n",
       " 272.0,\n",
       " 289.0,\n",
       " 297.0]"
      ]
     },
     "execution_count": 13,
     "metadata": {},
     "output_type": "execute_result"
    }
   ],
   "source": [
    "def exercise_6(num, n1, n2):\n",
    "    # your code here.\n",
    "    \n",
    "    #print(\"list of integers:\",num)\n",
    "    \n",
    "    listlength=len(num)\n",
    "    #print(\"list length:\",listlength)\n",
    "    \n",
    "    #print(\"1st least common multiple:\",n1)\n",
    "    #print(\"2nd least common multiple:\",n2)\n",
    "    \n",
    "    arr = np.array(num)\n",
    "    print (arr)\n",
    "    \n",
    "    maxint = np.max(num)\n",
    "    #print (\"maximum integer:\",maxint)\n",
    "    \n",
    "    mults1 = []\n",
    "    arr1 = np.array(mults1)\n",
    "    mults2 = []\n",
    "    arr2 = np.array(mults2)\n",
    "    mults3 = []\n",
    "    multstot = np.array(mults3)\n",
    "    \n",
    "    \n",
    "    #first set of multiples\n",
    "    i=1\n",
    "    n1mult = n1\n",
    "\n",
    "    while n1mult<maxint:\n",
    "            #print (\"sequence:\",i)\n",
    "            n1mult=n1*i\n",
    "            #print (i,\" multiple of\",n1,\":\",n1mult)\n",
    "            arr1=np.append (arr1,n1mult)\n",
    "            #print (\"list of multiples for n1\",arr1)\n",
    "            maxmult1 =np.max(arr1)\n",
    "            i=i+1\n",
    "            \n",
    "    #second set of multiples\n",
    "    i=1\n",
    "    n2mult = n2\n",
    "\n",
    "    while n2mult<=maxint:\n",
    "            #print (\"sequence:\",i)\n",
    "            n2mult=n2*i\n",
    "            #print (i,\" multiple of\",n2,\":\",n2mult)\n",
    "            arr2=np.append (arr2,n2mult)\n",
    "            #print (\"list of multiples for n2\",arr2)\n",
    "            maxmult2 =np.max(arr2)\n",
    "            i=i+1\n",
    "            \n",
    "    multstot = np.append(arr1,arr2)\n",
    "    #print (\"combined multiples of:\",n1,\"and\",n2,\":\",multstot)\n",
    "    \n",
    "    filtmultvmax = multstot [multstot < maxint]\n",
    "    #print (\"filtered combined multiples of:\",n1,\"and\",n2,\":\",filtmultvmax)\n",
    "    \n",
    "    #unique list \n",
    "    filt_set = set(filtmultvmax) \n",
    "    unique_list = (list(filt_set))       \n",
    "    \n",
    "    return sorted (unique_list)\n",
    "    \n",
    "    \n",
    "num = list (range (20))\n",
    "n1 = 3\n",
    "n2 = 4\n",
    "ans = exercise_6(num, n1, n2)\n",
    "ans\n",
    "\n",
    "\n",
    "num = list (range (300))\n",
    "n1 = 17\n",
    "n2 = 27\n",
    "ans = exercise_6(num, n1, n2)\n",
    "ans\n",
    "\n",
    "\n"
   ]
  },
  {
   "cell_type": "code",
   "execution_count": 14,
   "metadata": {},
   "outputs": [
    {
     "name": "stdout",
     "output_type": "stream",
     "text": [
      "[ 0  1  2  3  4  5  6  7  8  9 10 11 12 13 14 15 16 17 18 19]\n",
      "[  0   1   2   3   4   5   6   7   8   9  10  11  12  13  14  15  16  17\n",
      "  18  19  20  21  22  23  24  25  26  27  28  29  30  31  32  33  34  35\n",
      "  36  37  38  39  40  41  42  43  44  45  46  47  48  49  50  51  52  53\n",
      "  54  55  56  57  58  59  60  61  62  63  64  65  66  67  68  69  70  71\n",
      "  72  73  74  75  76  77  78  79  80  81  82  83  84  85  86  87  88  89\n",
      "  90  91  92  93  94  95  96  97  98  99 100 101 102 103 104 105 106 107\n",
      " 108 109 110 111 112 113 114 115 116 117 118 119 120 121 122 123 124 125\n",
      " 126 127 128 129 130 131 132 133 134 135 136 137 138 139 140 141 142 143\n",
      " 144 145 146 147 148 149 150 151 152 153 154 155 156 157 158 159 160 161\n",
      " 162 163 164 165 166 167 168 169 170 171 172 173 174 175 176 177 178 179\n",
      " 180 181 182 183 184 185 186 187 188 189 190 191 192 193 194 195 196 197\n",
      " 198 199 200 201 202 203 204 205 206 207 208 209 210 211 212 213 214 215\n",
      " 216 217 218 219 220 221 222 223 224 225 226 227 228 229 230 231 232 233\n",
      " 234 235 236 237 238 239 240 241 242 243 244 245 246 247 248 249 250 251\n",
      " 252 253 254 255 256 257 258 259 260 261 262 263 264 265 266 267 268 269\n",
      " 270 271 272 273 274 275 276 277 278 279 280 281 282 283 284 285 286 287\n",
      " 288 289 290 291 292 293 294 295 296 297 298 299]\n"
     ]
    }
   ],
   "source": [
    "ans = exercise_6(np.arange(20), 3, 4)\n",
    "assert ans==[3, 4, 6, 8, 9, 12, 15, 16, 18]\n",
    "\n",
    "ans = exercise_6(np.arange(300), 17, 27)\n",
    "assert ans==[17, 27, 34, 51, 54, 68, 81, 85, 102, 108, 119, 135, 136, 153, 162, 170, 187, 189, 204, 216, 221, 238, 243, 255, 270, 272, 289, 297]"
   ]
  },
  {
   "cell_type": "markdown",
   "metadata": {},
   "source": [
    "**Exercise 7.** Create a function that reads the Titanic dataset (`data/train.csv`) and returns the ages (in list form) of first 5 (based on index) female passengers who survived .\n",
    "\n",
    "**(2 pts.)**"
   ]
  },
  {
   "cell_type": "code",
   "execution_count": 59,
   "metadata": {},
   "outputs": [
    {
     "data": {
      "text/plain": [
       "[38, 26, 35, 27, 14]"
      ]
     },
     "execution_count": 59,
     "metadata": {},
     "output_type": "execute_result"
    }
   ],
   "source": [
    "def exercise_7():\n",
    "    # your code here.\n",
    "    DATA_DIR = \"./data/\"\n",
    "    titanic = pd.read_csv(\"data/train.csv\")\n",
    "    #print (titanic)\n",
    "    female = titanic[titanic.Sex==\"female\"]\n",
    "    #print (female)\n",
    "    survived = female[female.Survived==1]\n",
    "    #print (survived)\n",
    "    age=survived['Age'].head()\n",
    "    agelist=age.values.tolist()\n",
    "    agelistnp = list(np.int_(agelist))\n",
    "    return agelistnp\n",
    "\n",
    "\n",
    "exercise_7()\n",
    "\n",
    "    \n",
    "    "
   ]
  },
  {
   "cell_type": "code",
   "execution_count": 60,
   "metadata": {},
   "outputs": [],
   "source": [
    "assert exercise_7()==[38, 26, 35, 27, 14]"
   ]
  },
  {
   "cell_type": "markdown",
   "metadata": {},
   "source": [
    "**Exercise 8.** Create a function that reads the Titanic dataset (`data/train.csv`) and returns the average fare of all female passengers who survived and have an age greater than 30. Format the result by rounding up to 2 decimal values. Make sure the data type is float.\n",
    "\n",
    "**(2 pts.)**"
   ]
  },
  {
   "cell_type": "code",
   "execution_count": 65,
   "metadata": {},
   "outputs": [
    {
     "data": {
      "text/plain": [
       "71.16"
      ]
     },
     "execution_count": 65,
     "metadata": {},
     "output_type": "execute_result"
    }
   ],
   "source": [
    "def exercise_8():\n",
    "    # your code here.\n",
    "    DATA_DIR = \"./data/\"\n",
    "    titanic = pd.read_csv(\"data/train.csv\")\n",
    "    #print (titanic)\n",
    "    female = titanic[titanic.Sex==\"female\"]\n",
    "    #print (female)\n",
    "    survived = female[female.Survived==1]\n",
    "    #print (survived)\n",
    "    above30 = survived[survived.Age>30]\n",
    "    #print (above30)\n",
    "    faremean = above30['Fare'].mean()\n",
    "    #print (\"Average Fare of Surviving Females, above 30yo:\")\n",
    "    faremeanround = round(faremean,2)\n",
    "    return faremeanround\n",
    "\n",
    "\n",
    "exercise_8()\n"
   ]
  },
  {
   "cell_type": "code",
   "execution_count": 66,
   "metadata": {},
   "outputs": [],
   "source": [
    "assert exercise_8()==71.16"
   ]
  },
  {
   "cell_type": "code",
   "execution_count": null,
   "metadata": {},
   "outputs": [],
   "source": []
  }
 ],
 "metadata": {
  "kernelspec": {
   "display_name": "Python 3",
   "language": "python",
   "name": "python3"
  },
  "language_info": {
   "codemirror_mode": {
    "name": "ipython",
    "version": 3
   },
   "file_extension": ".py",
   "mimetype": "text/x-python",
   "name": "python",
   "nbconvert_exporter": "python",
   "pygments_lexer": "ipython3",
   "version": "3.7.7"
  }
 },
 "nbformat": 4,
 "nbformat_minor": 4
}
